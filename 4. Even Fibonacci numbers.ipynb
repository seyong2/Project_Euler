{
 "cells": [
  {
   "cell_type": "code",
   "execution_count": 3,
   "metadata": {},
   "outputs": [],
   "source": [
    "import time"
   ]
  },
  {
   "cell_type": "code",
   "execution_count": 15,
   "metadata": {},
   "outputs": [
    {
     "name": "stdout",
     "output_type": "stream",
     "text": [
      "4613732\n",
      "0.000997304916381836\n"
     ]
    }
   ],
   "source": [
    "start = time.time()\n",
    "fib = [1, 2]\n",
    "i = 1\n",
    "while max(fib) < 4000000:\n",
    "    fib.append(fib[i-1]+fib[i])\n",
    "    i += 1\n",
    "    \n",
    "sum = 0\n",
    "for j in fib:\n",
    "    if j%2 == 0:\n",
    "        sum += j\n",
    "    else:\n",
    "        continue\n",
    "print(sum)\n",
    "end = time.time()\n",
    "print(end-start)"
   ]
  }
 ],
 "metadata": {
  "kernelspec": {
   "display_name": "Python 3",
   "language": "python",
   "name": "python3"
  },
  "language_info": {
   "codemirror_mode": {
    "name": "ipython",
    "version": 3
   },
   "file_extension": ".py",
   "mimetype": "text/x-python",
   "name": "python",
   "nbconvert_exporter": "python",
   "pygments_lexer": "ipython3",
   "version": "3.7.4"
  }
 },
 "nbformat": 4,
 "nbformat_minor": 2
}
