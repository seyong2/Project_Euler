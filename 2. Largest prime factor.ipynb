{
 "cells": [
  {
   "cell_type": "code",
   "execution_count": 1,
   "metadata": {},
   "outputs": [],
   "source": [
    "import time"
   ]
  },
  {
   "cell_type": "code",
   "execution_count": 15,
   "metadata": {},
   "outputs": [
    {
     "name": "stdout",
     "output_type": "stream",
     "text": [
      "6857\n",
      "0.0009968280792236328\n"
     ]
    }
   ],
   "source": [
    "start = time.time()\n",
    "n = 600851475143\n",
    "\n",
    "i = 2\n",
    "factor = []\n",
    "\n",
    "while i <= n:\n",
    "    while n%i == 0:\n",
    "        n = n/i\n",
    "        factor.append(i)\n",
    "    if i == 2:\n",
    "        i += 1\n",
    "    else:\n",
    "        i += 2\n",
    "\n",
    "print(max(factor))\n",
    "end = time.time()\n",
    "print(end-start)"
   ]
  }
 ],
 "metadata": {
  "kernelspec": {
   "display_name": "Python 3",
   "language": "python",
   "name": "python3"
  },
  "language_info": {
   "codemirror_mode": {
    "name": "ipython",
    "version": 3
   },
   "file_extension": ".py",
   "mimetype": "text/x-python",
   "name": "python",
   "nbconvert_exporter": "python",
   "pygments_lexer": "ipython3",
   "version": "3.7.4"
  }
 },
 "nbformat": 4,
 "nbformat_minor": 2
}
