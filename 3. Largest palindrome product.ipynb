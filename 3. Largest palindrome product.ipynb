{
 "cells": [
  {
   "cell_type": "code",
   "execution_count": 33,
   "metadata": {},
   "outputs": [],
   "source": [
    "import time"
   ]
  },
  {
   "cell_type": "code",
   "execution_count": 39,
   "metadata": {},
   "outputs": [
    {
     "name": "stdout",
     "output_type": "stream",
     "text": [
      "906609\n",
      "0.2513725757598877\n"
     ]
    }
   ],
   "source": [
    "start = time.time()\n",
    "palindrome = []\n",
    "x = list(range(100, 1000))\n",
    "y = []\n",
    "for i in x:\n",
    "    for j in x:\n",
    "        y.append(i*j)\n",
    "y = list(set(y))\n",
    "y.sort(reverse=True)\n",
    "\n",
    "for i in y:\n",
    "    cha = str(i)\n",
    "    if len(cha) == 6:\n",
    "        if cha[-1] != cha[0]:\n",
    "            continue\n",
    "        elif cha[-2] != cha[1]:\n",
    "            continue\n",
    "        elif cha[-3] != cha[2]:\n",
    "            continue\n",
    "        else :\n",
    "            palindrome.append(i)\n",
    "    else:\n",
    "        if cha[-1] != cha[0]:\n",
    "            continue\n",
    "        elif cha[-2] != cha[1]:\n",
    "            continue\n",
    "        else:\n",
    "            palindrome.append(i)\n",
    "    if len(palindrome) == 1:\n",
    "        break\n",
    "\n",
    "print(*palindrome)\n",
    "end = time.time()\n",
    "print(end-start)"
   ]
  }
 ],
 "metadata": {
  "kernelspec": {
   "display_name": "Python 3",
   "language": "python",
   "name": "python3"
  },
  "language_info": {
   "codemirror_mode": {
    "name": "ipython",
    "version": 3
   },
   "file_extension": ".py",
   "mimetype": "text/x-python",
   "name": "python",
   "nbconvert_exporter": "python",
   "pygments_lexer": "ipython3",
   "version": "3.7.4"
  }
 },
 "nbformat": 4,
 "nbformat_minor": 2
}
