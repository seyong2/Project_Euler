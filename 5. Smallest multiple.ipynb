{
 "cells": [
  {
   "cell_type": "code",
   "execution_count": 104,
   "metadata": {},
   "outputs": [],
   "source": [
    "import time\n",
    "import pandas as pd\n",
    "import numpy as np"
   ]
  },
  {
   "cell_type": "code",
   "execution_count": 116,
   "metadata": {},
   "outputs": [
    {
     "name": "stdout",
     "output_type": "stream",
     "text": [
      "232792560\n",
      "0.03398013114929199\n"
     ]
    }
   ],
   "source": [
    "start = time.time()\n",
    "x = list(range(1,21))\n",
    "zero = [0] * (len(x)-1)\n",
    "df = pd.DataFrame(zero)\n",
    "idx = list(range(2,21))\n",
    "df['Index'] = idx\n",
    "df.set_index('Index', inplace=True)\n",
    "df = df.rename(columns={0:'Count'})\n",
    "\n",
    "for n in x:\n",
    "    i = 2\n",
    "    while i <= n:\n",
    "        count = 0\n",
    "        while n%i == 0:\n",
    "            n = n/i\n",
    "            count += 1\n",
    "        if count > df['Count'].loc[i]:\n",
    "            df['Count'].loc[i] = count\n",
    "        if i == 2:\n",
    "            i += 1\n",
    "        else:\n",
    "            i += 2\n",
    "\n",
    "print(np.prod(df.index ** df.Count))\n",
    "end = time.time()\n",
    "print(end-start)"
   ]
  },
  {
   "cell_type": "code",
   "execution_count": null,
   "metadata": {},
   "outputs": [],
   "source": []
  }
 ],
 "metadata": {
  "kernelspec": {
   "display_name": "Python 3",
   "language": "python",
   "name": "python3"
  },
  "language_info": {
   "codemirror_mode": {
    "name": "ipython",
    "version": 3
   },
   "file_extension": ".py",
   "mimetype": "text/x-python",
   "name": "python",
   "nbconvert_exporter": "python",
   "pygments_lexer": "ipython3",
   "version": "3.7.4"
  }
 },
 "nbformat": 4,
 "nbformat_minor": 2
}
